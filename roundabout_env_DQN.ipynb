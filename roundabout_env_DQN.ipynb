{
  "cells": [
    {
      "cell_type": "code",
      "execution_count": 1,
      "metadata": {
        "id": "uxaQ_MSk9TfL"
      },
      "outputs": [],
      "source": [
        "import keras\n",
        "import tensorflow as tf\n",
        "import os\n",
        "import numpy as np\n",
        "import time\n",
        "import pprint\n",
        "import matplotlib.pyplot as plt\n",
        "import pandas as pd\n",
        "pd.options.mode.copy_on_write = True"
      ]
    },
    {
      "cell_type": "code",
      "execution_count": 2,
      "metadata": {
        "colab": {
          "base_uri": "https://localhost:8080/"
        },
        "id": "wp_z7ii_901S",
        "outputId": "1f759478-b57b-49fa-8325-1e70867e3255"
      },
      "outputs": [
        {
          "output_type": "stream",
          "name": "stdout",
          "text": [
            "Requirement already satisfied: gymnasium in /usr/local/lib/python3.11/dist-packages (1.1.1)\n",
            "Requirement already satisfied: numpy>=1.21.0 in /usr/local/lib/python3.11/dist-packages (from gymnasium) (2.0.2)\n",
            "Requirement already satisfied: cloudpickle>=1.2.0 in /usr/local/lib/python3.11/dist-packages (from gymnasium) (3.1.1)\n",
            "Requirement already satisfied: typing-extensions>=4.3.0 in /usr/local/lib/python3.11/dist-packages (from gymnasium) (4.14.0)\n",
            "Requirement already satisfied: farama-notifications>=0.0.1 in /usr/local/lib/python3.11/dist-packages (from gymnasium) (0.0.4)\n",
            "  Installing build dependencies ... \u001b[?25l\u001b[?25hdone\n",
            "  Getting requirements to build wheel ... \u001b[?25l\u001b[?25hdone\n",
            "  Preparing metadata (pyproject.toml) ... \u001b[?25l\u001b[?25hdone\n",
            "  Installing build dependencies ... \u001b[?25l\u001b[?25hdone\n",
            "  Getting requirements to build wheel ... \u001b[?25l\u001b[?25hdone\n",
            "  Preparing metadata (pyproject.toml) ... \u001b[?25l\u001b[?25hdone\n"
          ]
        }
      ],
      "source": [
        "!pip install gymnasium\n",
        "!pip install -q git+https://github.com/eleurent/highway-env\n",
        "!pip install -q git+https://github.com/DLR-RM/stable-baselines3"
      ]
    },
    {
      "cell_type": "code",
      "execution_count": 3,
      "metadata": {
        "id": "IOmK65jp94yd"
      },
      "outputs": [],
      "source": [
        "import warnings\n",
        "warnings.filterwarnings(\"ignore\", category=DeprecationWarning)\n",
        "\n",
        "import gymnasium as gym\n",
        "import highway_env\n",
        "from matplotlib import pyplot as plt\n",
        "%matplotlib inline\n",
        "from stable_baselines3 import DQN\n",
        "\n",
        "from stable_baselines3.common.callbacks import BaseCallback\n",
        "from stable_baselines3.common.logger import Figure, Image"
      ]
    },
    {
      "cell_type": "code",
      "execution_count": 4,
      "metadata": {
        "colab": {
          "base_uri": "https://localhost:8080/"
        },
        "id": "zsr5DmziD4kg",
        "outputId": "28c88695-405d-4f89-b064-1c7cdbd1f695"
      },
      "outputs": [
        {
          "output_type": "stream",
          "name": "stdout",
          "text": [
            "Requirement already satisfied: tensorboardx in /usr/local/lib/python3.11/dist-packages (2.6.4)\n",
            "Requirement already satisfied: gym in /usr/local/lib/python3.11/dist-packages (0.25.2)\n",
            "Requirement already satisfied: pyvirtualdisplay in /usr/local/lib/python3.11/dist-packages (3.0)\n",
            "Requirement already satisfied: numpy in /usr/local/lib/python3.11/dist-packages (from tensorboardx) (2.0.2)\n",
            "Requirement already satisfied: packaging in /usr/local/lib/python3.11/dist-packages (from tensorboardx) (24.2)\n",
            "Requirement already satisfied: protobuf>=3.20 in /usr/local/lib/python3.11/dist-packages (from tensorboardx) (5.29.5)\n",
            "Requirement already satisfied: cloudpickle>=1.2.0 in /usr/local/lib/python3.11/dist-packages (from gym) (3.1.1)\n",
            "Requirement already satisfied: gym-notices>=0.0.4 in /usr/local/lib/python3.11/dist-packages (from gym) (0.0.8)\n",
            "Reading package lists... Done\n",
            "Building dependency tree... Done\n",
            "Reading state information... Done\n",
            "ffmpeg is already the newest version (7:4.4.2-0ubuntu0.22.04.1).\n",
            "xvfb is already the newest version (2:21.1.4-2ubuntu1.7~22.04.14).\n",
            "0 upgraded, 0 newly installed, 0 to remove and 35 not upgraded.\n"
          ]
        }
      ],
      "source": [
        "# Visualization utils\n",
        "%load_ext tensorboard\n",
        "import sys\n",
        "from tqdm.notebook import trange\n",
        "!pip install tensorboardx gym pyvirtualdisplay\n",
        "!apt-get install -y xvfb ffmpeg\n",
        "!git clone https://github.com/Farama-Foundation/HighwayEnv.git 2> /dev/null\n",
        "sys.path.insert(0, '/content/HighwayEnv/scripts')\n",
        "from utils import record_videos, show_videos"
      ]
    },
    {
      "cell_type": "markdown",
      "metadata": {
        "id": "iyZQoQeEYb5X"
      },
      "source": [
        "### __Configuration of the Roundabout Environment__\n",
        "###### Separated it out to change reward function for speed, lane keeping, and collision prevention"
      ]
    },
    {
      "cell_type": "code",
      "execution_count": 5,
      "metadata": {
        "id": "Tso_yz9bYVuX"
      },
      "outputs": [],
      "source": [
        "env_config= {\n",
        "            \"observation\": {\n",
        "                \"type\": \"Kinematics\",\n",
        "                \"absolute\": True,\n",
        "                \"features_range\": {\n",
        "                    \"x\": [-100, 100],\n",
        "                    \"y\": [-100, 100],\n",
        "                    \"vx\": [-15, 15],\n",
        "                    \"vy\": [-15, 15],\n",
        "                },\n",
        "            },\n",
        "            \"action\": {\"type\": \"DiscreteMetaAction\", \"target_speeds\": [0, 8, 16]},\n",
        "            \"incoming_vehicle_destination\": None,\n",
        "            \"collision_reward\": -2,\n",
        "            \"high_speed_reward\": 0.6,\n",
        "            \"right_lane_reward\": 0.2,\n",
        "            \"lane_change_reward\": -0.1,\n",
        "            \"screen_width\": 600,\n",
        "            \"screen_height\": 600,\n",
        "            \"centering_position\": [0.5, 0.6],\n",
        "            \"duration\": 11,\n",
        "            \"normalize_reward\": True,\n",
        "        }"
      ]
    },
    {
      "cell_type": "code",
      "execution_count": 6,
      "metadata": {
        "colab": {
          "base_uri": "https://localhost:8080/"
        },
        "id": "o4r_AaCwXNpk",
        "outputId": "4c43d2a0-69fd-4024-a701-c61c1fec2458"
      },
      "outputs": [
        {
          "output_type": "stream",
          "name": "stdout",
          "text": [
            "{'action': {'target_speeds': [0, 8, 16], 'type': 'DiscreteMetaAction'},\n",
            " 'centering_position': [0.5, 0.6],\n",
            " 'collision_reward': -2,\n",
            " 'duration': 11,\n",
            " 'high_speed_reward': 0.6,\n",
            " 'incoming_vehicle_destination': None,\n",
            " 'lane_change_reward': -0.1,\n",
            " 'manual_control': False,\n",
            " 'normalize_reward': True,\n",
            " 'observation': {'absolute': True,\n",
            "                 'features_range': {'vx': [-15, 15],\n",
            "                                    'vy': [-15, 15],\n",
            "                                    'x': [-100, 100],\n",
            "                                    'y': [-100, 100]},\n",
            "                 'type': 'Kinematics'},\n",
            " 'offscreen_rendering': False,\n",
            " 'other_vehicles_type': 'highway_env.vehicle.behavior.IDMVehicle',\n",
            " 'policy_frequency': 1,\n",
            " 'real_time_rendering': False,\n",
            " 'render_agent': True,\n",
            " 'right_lane_reward': 0.2,\n",
            " 'scaling': 5.5,\n",
            " 'screen_height': 600,\n",
            " 'screen_width': 600,\n",
            " 'show_trajectories': False,\n",
            " 'simulation_frequency': 15}\n"
          ]
        }
      ],
      "source": [
        "def env_create(seed=42):\n",
        "    env = gym.make(\"roundabout-v0\", config=env_config, render_mode='rgb_array')\n",
        "    # pprint.pprint(env.unwrapped.config)\n",
        "    env.reset(seed=seed)\n",
        "    return env\n",
        "\n",
        "env = env_create()\n",
        "pprint.pprint(env.unwrapped.config) # Print all the env parameters"
      ]
    },
    {
      "cell_type": "code",
      "execution_count": 7,
      "metadata": {
        "colab": {
          "base_uri": "https://localhost:8080/",
          "height": 406
        },
        "id": "CC3h5sF0UPnK",
        "outputId": "9c4d249d-4325-45ac-c0f8-f2ba663ae744"
      },
      "outputs": [
        {
          "output_type": "display_data",
          "data": {
            "text/plain": [
              "<Figure size 640x480 with 1 Axes>"
            ],
            "image/png": "[encoded data removed]"
          },
          "metadata": {}
        }
      ],
      "source": [
        "for _ in range(3):\n",
        "    action = env.unwrapped.action_type.actions_indexes[\"IDLE\"]\n",
        "    obs, reward, done, truncated, info = env.step(action)\n",
        "    env.render()\n",
        "\n",
        "plt.imshow(env.render()) # draw the current scenario\n",
        "plt.axis('off')\n",
        "plt.show()"
      ]
    },
    {
      "cell_type": "markdown",
      "metadata": {
        "id": "FLHsh2D-WJ-2"
      },
      "source": [
        "Key aspects of ``ep_len_mean`` and ``ep_rew_mean`` can be seen on tensorboard. But, to also notice loss, we need a separate callback"
      ]
    },
    {
      "cell_type": "code",
      "execution_count": 8,
      "metadata": {
        "id": "bESi9SUYatdm"
      },
      "outputs": [],
      "source": [
        "# Custom callback to log loss\n",
        "class LossCallback(BaseCallback):\n",
        "    def __init__(self, verbose=0):\n",
        "        super(LossCallback, self).__init__(verbose)\n",
        "        self.losses = []\n",
        "\n",
        "    def _on_step(self):\n",
        "        # Log loss after each update\n",
        "        if \"train/loss\" in self.logger.name_to_value:\n",
        "            loss = self.logger.name_to_value[\"train/loss\"]\n",
        "            self.losses.append(loss)\n",
        "        return True\n",
        "\n",
        "loss_callback = LossCallback()"
      ]
    },
    {
      "cell_type": "code",
      "execution_count": 9,
      "metadata": {
        "collapsed": true,
        "id": "02PPwGDvbt8J"
      },
      "outputs": [],
      "source": [
        "#%tensorboard --logdir \"highway_dqn\""
      ]
    },
    {
      "cell_type": "code",
      "execution_count": 10,
      "metadata": {
        "id": "pniUlckGaZl8"
      },
      "outputs": [],
      "source": [
        "model = DQN('MlpPolicy', env,\n",
        "                policy_kwargs=dict(net_arch=[256, 256]),\n",
        "                learning_rate=25e-5,\n",
        "                buffer_size=20000,\n",
        "                learning_starts=1000,\n",
        "                batch_size=32,\n",
        "                gamma=0.9,\n",
        "                train_freq=1,\n",
        "                gradient_steps=1,\n",
        "                target_update_interval=50,\n",
        "                exploration_fraction=0.6,\n",
        "                verbose=0,\n",
        "                tensorboard_log='highway_dqn/')"
      ]
    },
    {
      "cell_type": "code",
      "execution_count": 11,
      "metadata": {
        "colab": {
          "base_uri": "https://localhost:8080/"
        },
        "id": "PKLCSNfJadzb",
        "outputId": "e2763672-46ec-4240-c71a-c6fe1b4001cc"
      },
      "outputs": [
        {
          "output_type": "stream",
          "name": "stdout",
          "text": [
            "Time to run: 20 min 6.86 s\n"
          ]
        }
      ],
      "source": [
        "start = time.perf_counter()\n",
        "model.learn(total_timesteps=20000, callback=loss_callback)\n",
        "end = time.perf_counter()\n",
        "\n",
        "s2mps = lambda s: f\"{s // 60:.0f} min {s % 60:.2f} s\"\n",
        "print(f\"Time to run: {s2mps(end - start)}\")"
      ]
    },
    {
      "cell_type": "code",
      "execution_count": 12,
      "metadata": {
        "colab": {
          "base_uri": "https://localhost:8080/",
          "height": 564
        },
        "id": "YxgvE0Ejatdo",
        "outputId": "431ae9ec-22a3-4c35-f652-517e55bca7f0"
      },
      "outputs": [
        {
          "output_type": "display_data",
          "data": {
            "text/plain": [
              "<Figure size 1000x600 with 1 Axes>"
            ],
            "image/png": "[encoded data removed]"
          },
          "metadata": {}
        }
      ],
      "source": [
        "# Computing the moving average of the loss\n",
        "window_size = 100\n",
        "moving_avg = np.convolve(loss_callback.losses, np.ones(window_size)/window_size, mode='valid')\n",
        "\n",
        "# Plotting the moving average of loss\n",
        "plt.figure(figsize=(10, 6))\n",
        "plt.plot(moving_avg, label='Training Loss (Moving Average)', color='blue', linewidth=1)\n",
        "plt.xlabel('Training Steps')\n",
        "plt.ylabel('Loss')\n",
        "plt.title('DQN Training Loss (Moving Average)')\n",
        "plt.legend()\n",
        "plt.grid()\n",
        "plt.show()"
      ]
    },
    {
      "cell_type": "code",
      "execution_count": 13,
      "metadata": {
        "colab": {
          "base_uri": "https://localhost:8080/"
        },
        "id": "KcTMnVfVanYs",
        "outputId": "3d099069-95f8-4eba-979e-f2f09c3f79da"
      },
      "outputs": [
        {
          "output_type": "stream",
          "name": "stdout",
          "text": [
            "Avg time to fail [s] = 0.67\n",
            "Avg distance traveled [m]= 8.00\n",
            "Avg reward = 9.23\n"
          ]
        }
      ],
      "source": [
        "# Here we look an N=25 episodes and calculate time to fail and distance traveled to fail\n",
        "n_tests = 25\n",
        "\n",
        "# Initialize lists to store results for each episode\n",
        "total_failtime = []\n",
        "total_distance = []\n",
        "total_reward = []\n",
        "\n",
        "# Define the simulation frequency (steps per second), FIX: should be extracted from env_config\n",
        "simulation_frequency = 15\n",
        "\n",
        "for ix in range(n_tests):\n",
        "    timetofail = 0\n",
        "    distance = 0\n",
        "    sumreward = 0\n",
        "    done = truncated = False\n",
        "\n",
        "    obs, info = env.reset()\n",
        "    # Run the episode until termination (either done or truncated)\n",
        "    while not (done or truncated):\n",
        "\n",
        "        # Use the trained model to predict the next action deterministically and executing the action in env\n",
        "        action, _states = model.predict(obs, deterministic=True)\n",
        "        obs, reward, done, truncated, info = env.step(action)\n",
        "\n",
        "        timetofail += 1\n",
        "        sumreward += reward\n",
        "        distance += info['speed'] / simulation_frequency\n",
        "\n",
        "    # Append the results of this episode to the respective lists\n",
        "    total_failtime.append(timetofail)\n",
        "    total_distance.append(distance)\n",
        "    total_reward.append(sumreward)\n",
        "\n",
        "# Calculate and print the average results across all test episodes\n",
        "print(f'Avg time to fail [s] = {np.sum(total_failtime) / n_tests / simulation_frequency:.2f}')\n",
        "print(f'Avg distance traveled [m]= {np.sum(total_distance) / n_tests:.2f}')\n",
        "print(f'Avg reward = {np.sum(total_reward) / n_tests:.2f}')"
      ]
    },
    {
      "cell_type": "markdown",
      "metadata": {
        "id": "ZHOWYIeEABGB"
      },
      "source": [
        "__Reward Function:__\n",
        "\n",
        "``lane_change_reward`` at $-0.1$ seems appropriate. Experiment with others\n",
        "\n",
        "tested with DQN following key parameters:\n",
        "```\n",
        "learning_rate=5e-4,\n",
        "buffer_size=20000,\n",
        "learning_starts=1000,\n",
        "batch_size=32,\n",
        "gamma=0.9,\n",
        "train_freq=1,\n",
        "gradient_steps=1,\n",
        "target_update_interval=50,\n",
        "exploration_fraction=0.6,\n",
        "```\n",
        "\n",
        "| Ex. No. |collision_rew |high_speed_rew |right_lane_rew|Avg Time |Avg Distance | Avg Reward|\n",
        "|----|----|----|----|---|---|---|\n",
        "|1|-2 | 0.5 | 0.3 | 0.6|6.90|8.18|\n",
        "|2|-2|0.6|0.3|0.62|7.22|8.30|\n",
        "|3|-2|0.6|0.2|0.66|7.33|8.99|\n",
        "\n",
        "           "
      ]
    },
    {
      "cell_type": "markdown",
      "metadata": {
        "id": "e0Fj0vaUOZfH"
      },
      "source": [
        "As, ``ep_len_mean`` and ``ep_rew_mean`` more or less continously increase, while loss continuously degrade, using 20,000 timesteps should be considered appropriate.\n",
        "\n",
        "Also, as `high_speed_reward` at $0.6$ and `right_lange_reward` at $0.2$ gave best results. We will persist with it, and next, experiment with `learning_rate` and discount `gamma`\n",
        "\n",
        "|Ex. No.|learning_rate|gamma|Avg Time|Avg Distance | Avg Reward|\n",
        "|---|----|--|---|--|--|\n",
        "|1|5e-4 | 0.9 |0.66 | 7.33 | 8.99|\n",
        "|2|25e-5 | 0.9 |0.66 | 7.22| 8.90|\n",
        "|3|5e-4 | 0.95|0.70|4.31|8.86|\n",
        "|4|25e-5|0.95|0.72|4.56|9.19|"
      ]
    },
    {
      "cell_type": "markdown",
      "metadata": {
        "id": "VM7RAettfxHS"
      },
      "source": [
        "Will stick with ``gamma`` at $0.9$ and ``learning_rate`` at $25e-5$, and run ``record_video`` as well beneath."
      ]
    },
    {
      "cell_type": "code",
      "execution_count": null,
      "metadata": {
        "colab": {
          "base_uri": "https://localhost:8080/",
          "height": 104,
          "referenced_widgets": [
            "b40dc4e87228463fbfb8cdcb028e8718",
            "c9af2112a7ee41bbb38c24afdb01676f",
            "77303f87eaeb43e7918e14c5dfab6f0a",
            "fa5b0b59a6fe4ae187876916f4554770",
            "cd19d3bd18ea43f4bf51b0bcdfa1a9ee",
            "68247b048a294a379d70ed889e901347",
            "36e76b390c574e60ad39dbcffa87f649",
            "21d25c9e51034acfa388580f0b8e1e9f",
            "b607f694a3da48559acf45ecb8c471f8",
            "fb318338a8af468da0b7637bbe10fd6d",
            "b9f74ac10bd14faeb461fda338acd82d"
          ]
        },
        "id": "ovojrbv_bsIh",
        "outputId": "08646058-a7ac-45c4-d455-cc3d87211646"
      },
      "outputs": [
        {
          "output_type": "stream",
          "name": "stderr",
          "text": [
            "/usr/local/lib/python3.11/dist-packages/gymnasium/wrappers/rendering.py:283: UserWarning: \u001b[33mWARN: Overwriting existing videos at /content/videos folder (try specifying a different `video_folder` for the `RecordVideo` wrapper if this is not desired)\u001b[0m\n",
            "  logger.warn(\n"
          ]
        },
        {
          "output_type": "display_data",
          "data": {
            "text/plain": [
              "Test episodes:   0%|          | 0/2 [00:00<?, ?it/s]"
            ],
            "application/vnd.jupyter.widget-view+json": {
              "version_major": 2,
              "version_minor": 0,
              "model_id": "b40dc4e87228463fbfb8cdcb028e8718"
            }
          },
          "metadata": {}
        }
      ],
      "source": [
        "if True:\n",
        "    env = env_create()\n",
        "    env = record_videos(env)\n",
        "\n",
        "    # Loop through a specified number of test episodes to evaluate the model\n",
        "    for episode in trange(2, desc='Test episodes'):\n",
        "        (obs, info), done = env.reset(), False\n",
        "        while not done:\n",
        "            # Use the trained model to predict the next action deterministically\n",
        "            action, _ = model.predict(obs, deterministic=True)\n",
        "\n",
        "            # Take the predicted action in the environment and observe the results\n",
        "            obs, reward, done, truncated, info = env.step(int(action))\n",
        "\n",
        "    env.close()\n",
        "    show_videos()"
      ]
    }
  ],
  "metadata": {
    "colab": {
      "provenance": []
    },
    "kernelspec": {
      "display_name": "ml_env",
      "language": "python",
      "name": "python3"
    },
    "language_info": {
      "codemirror_mode": {
        "name": "ipython",
        "version": 3
      },
      "file_extension": ".py",
      "mimetype": "text/x-python",
      "name": "python",
      "nbconvert_exporter": "python",
      "pygments_lexer": "ipython3",
      "version": "3.9.9"
    },
    "widgets": {
      "application/vnd.jupyter.widget-state+json": {
        "b40dc4e87228463fbfb8cdcb028e8718": {
          "model_module": "@jupyter-widgets/controls",
          "model_name": "HBoxModel",
          "model_module_version": "1.5.0",
          "state": {
            "_dom_classes": [],
            "_model_module": "@jupyter-widgets/controls",
            "_model_module_version": "1.5.0",
            "_model_name": "HBoxModel",
            "_view_count": null,
            "_view_module": "@jupyter-widgets/controls",
            "_view_module_version": "1.5.0",
            "_view_name": "HBoxView",
            "box_style": "",
            "children": [
              "IPY_MODEL_c9af2112a7ee41bbb38c24afdb01676f",
              "IPY_MODEL_77303f87eaeb43e7918e14c5dfab6f0a",
              "IPY_MODEL_fa5b0b59a6fe4ae187876916f4554770"
            ],
            "layout": "IPY_MODEL_cd19d3bd18ea43f4bf51b0bcdfa1a9ee"
          }
        },
        "c9af2112a7ee41bbb38c24afdb01676f": {
          "model_module": "@jupyter-widgets/controls",
          "model_name": "HTMLModel",
          "model_module_version": "1.5.0",
          "state": {
            "_dom_classes": [],
            "_model_module": "@jupyter-widgets/controls",
            "_model_module_version": "1.5.0",
            "_model_name": "HTMLModel",
            "_view_count": null,
            "_view_module": "@jupyter-widgets/controls",
            "_view_module_version": "1.5.0",
            "_view_name": "HTMLView",
            "description": "",
            "description_tooltip": null,
            "layout": "IPY_MODEL_68247b048a294a379d70ed889e901347",
            "placeholder": "​",
            "style": "IPY_MODEL_36e76b390c574e60ad39dbcffa87f649",
            "value": "Test episodes:   0%"
          }
        },
        "77303f87eaeb43e7918e14c5dfab6f0a": {
          "model_module": "@jupyter-widgets/controls",
          "model_name": "FloatProgressModel",
          "model_module_version": "1.5.0",
          "state": {
            "_dom_classes": [],
            "_model_module": "@jupyter-widgets/controls",
            "_model_module_version": "1.5.0",
            "_model_name": "FloatProgressModel",
            "_view_count": null,
            "_view_module": "@jupyter-widgets/controls",
            "_view_module_version": "1.5.0",
            "_view_name": "ProgressView",
            "bar_style": "",
            "description": "",
            "description_tooltip": null,
            "layout": "IPY_MODEL_21d25c9e51034acfa388580f0b8e1e9f",
            "max": 2,
            "min": 0,
            "orientation": "horizontal",
            "style": "IPY_MODEL_b607f694a3da48559acf45ecb8c471f8",
            "value": 0
          }
        },
        "fa5b0b59a6fe4ae187876916f4554770": {
          "model_module": "@jupyter-widgets/controls",
          "model_name": "HTMLModel",
          "model_module_version": "1.5.0",
          "state": {
            "_dom_classes": [],
            "_model_module": "@jupyter-widgets/controls",
            "_model_module_version": "1.5.0",
            "_model_name": "HTMLModel",
            "_view_count": null,
            "_view_module": "@jupyter-widgets/controls",
            "_view_module_version": "1.5.0",
            "_view_name": "HTMLView",
            "description": "",
            "description_tooltip": null,
            "layout": "IPY_MODEL_fb318338a8af468da0b7637bbe10fd6d",
            "placeholder": "​",
            "style": "IPY_MODEL_b9f74ac10bd14faeb461fda338acd82d",
            "value": " 0/2 [00:00&lt;?, ?it/s]"
          }
        },
        "cd19d3bd18ea43f4bf51b0bcdfa1a9ee": {
          "model_module": "@jupyter-widgets/base",
          "model_name": "LayoutModel",
          "model_module_version": "1.2.0",
          "state": {
            "_model_module": "@jupyter-widgets/base",
            "_model_module_version": "1.2.0",
            "_model_name": "LayoutModel",
            "_view_count": null,
            "_view_module": "@jupyter-widgets/base",
            "_view_module_version": "1.2.0",
            "_view_name": "LayoutView",
            "align_content": null,
            "align_items": null,
            "align_self": null,
            "border": null,
            "bottom": null,
            "display": null,
            "flex": null,
            "flex_flow": null,
            "grid_area": null,
            "grid_auto_columns": null,
            "grid_auto_flow": null,
            "grid_auto_rows": null,
            "grid_column": null,
            "grid_gap": null,
            "grid_row": null,
            "grid_template_areas": null,
            "grid_template_columns": null,
            "grid_template_rows": null,
            "height": null,
            "justify_content": null,
            "justify_items": null,
            "left": null,
            "margin": null,
            "max_height": null,
            "max_width": null,
            "min_height": null,
            "min_width": null,
            "object_fit": null,
            "object_position": null,
            "order": null,
            "overflow": null,
            "overflow_x": null,
            "overflow_y": null,
            "padding": null,
            "right": null,
            "top": null,
            "visibility": null,
            "width": null
          }
        },
        "68247b048a294a379d70ed889e901347": {
          "model_module": "@jupyter-widgets/base",
          "model_name": "LayoutModel",
          "model_module_version": "1.2.0",
          "state": {
            "_model_module": "@jupyter-widgets/base",
            "_model_module_version": "1.2.0",
            "_model_name": "LayoutModel",
            "_view_count": null,
            "_view_module": "@jupyter-widgets/base",
            "_view_module_version": "1.2.0",
            "_view_name": "LayoutView",
            "align_content": null,
            "align_items": null,
            "align_self": null,
            "border": null,
            "bottom": null,
            "display": null,
            "flex": null,
            "flex_flow": null,
            "grid_area": null,
            "grid_auto_columns": null,
            "grid_auto_flow": null,
            "grid_auto_rows": null,
            "grid_column": null,
            "grid_gap": null,
            "grid_row": null,
            "grid_template_areas": null,
            "grid_template_columns": null,
            "grid_template_rows": null,
            "height": null,
            "justify_content": null,
            "justify_items": null,
            "left": null,
            "margin": null,
            "max_height": null,
            "max_width": null,
            "min_height": null,
            "min_width": null,
            "object_fit": null,
            "object_position": null,
            "order": null,
            "overflow": null,
            "overflow_x": null,
            "overflow_y": null,
            "padding": null,
            "right": null,
            "top": null,
            "visibility": null,
            "width": null
          }
        },
        "36e76b390c574e60ad39dbcffa87f649": {
          "model_module": "@jupyter-widgets/controls",
          "model_name": "DescriptionStyleModel",
          "model_module_version": "1.5.0",
          "state": {
            "_model_module": "@jupyter-widgets/controls",
            "_model_module_version": "1.5.0",
            "_model_name": "DescriptionStyleModel",
            "_view_count": null,
            "_view_module": "@jupyter-widgets/base",
            "_view_module_version": "1.2.0",
            "_view_name": "StyleView",
            "description_width": ""
          }
        },
        "21d25c9e51034acfa388580f0b8e1e9f": {
          "model_module": "@jupyter-widgets/base",
          "model_name": "LayoutModel",
          "model_module_version": "1.2.0",
          "state": {
            "_model_module": "@jupyter-widgets/base",
            "_model_module_version": "1.2.0",
            "_model_name": "LayoutModel",
            "_view_count": null,
            "_view_module": "@jupyter-widgets/base",
            "_view_module_version": "1.2.0",
            "_view_name": "LayoutView",
            "align_content": null,
            "align_items": null,
            "align_self": null,
            "border": null,
            "bottom": null,
            "display": null,
            "flex": null,
            "flex_flow": null,
            "grid_area": null,
            "grid_auto_columns": null,
            "grid_auto_flow": null,
            "grid_auto_rows": null,
            "grid_column": null,
            "grid_gap": null,
            "grid_row": null,
            "grid_template_areas": null,
            "grid_template_columns": null,
            "grid_template_rows": null,
            "height": null,
            "justify_content": null,
            "justify_items": null,
            "left": null,
            "margin": null,
            "max_height": null,
            "max_width": null,
            "min_height": null,
            "min_width": null,
            "object_fit": null,
            "object_position": null,
            "order": null,
            "overflow": null,
            "overflow_x": null,
            "overflow_y": null,
            "padding": null,
            "right": null,
            "top": null,
            "visibility": null,
            "width": null
          }
        },
        "b607f694a3da48559acf45ecb8c471f8": {
          "model_module": "@jupyter-widgets/controls",
          "model_name": "ProgressStyleModel",
          "model_module_version": "1.5.0",
          "state": {
            "_model_module": "@jupyter-widgets/controls",
            "_model_module_version": "1.5.0",
            "_model_name": "ProgressStyleModel",
            "_view_count": null,
            "_view_module": "@jupyter-widgets/base",
            "_view_module_version": "1.2.0",
            "_view_name": "StyleView",
            "bar_color": null,
            "description_width": ""
          }
        },
        "fb318338a8af468da0b7637bbe10fd6d": {
          "model_module": "@jupyter-widgets/base",
          "model_name": "LayoutModel",
          "model_module_version": "1.2.0",
          "state": {
            "_model_module": "@jupyter-widgets/base",
            "_model_module_version": "1.2.0",
            "_model_name": "LayoutModel",
            "_view_count": null,
            "_view_module": "@jupyter-widgets/base",
            "_view_module_version": "1.2.0",
            "_view_name": "LayoutView",
            "align_content": null,
            "align_items": null,
            "align_self": null,
            "border": null,
            "bottom": null,
            "display": null,
            "flex": null,
            "flex_flow": null,
            "grid_area": null,
            "grid_auto_columns": null,
            "grid_auto_flow": null,
            "grid_auto_rows": null,
            "grid_column": null,
            "grid_gap": null,
            "grid_row": null,
            "grid_template_areas": null,
            "grid_template_columns": null,
            "grid_template_rows": null,
            "height": null,
            "justify_content": null,
            "justify_items": null,
            "left": null,
            "margin": null,
            "max_height": null,
            "max_width": null,
            "min_height": null,
            "min_width": null,
            "object_fit": null,
            "object_position": null,
            "order": null,
            "overflow": null,
            "overflow_x": null,
            "overflow_y": null,
            "padding": null,
            "right": null,
            "top": null,
            "visibility": null,
            "width": null
          }
        },
        "b9f74ac10bd14faeb461fda338acd82d": {
          "model_module": "@jupyter-widgets/controls",
          "model_name": "DescriptionStyleModel",
          "model_module_version": "1.5.0",
          "state": {
            "_model_module": "@jupyter-widgets/controls",
            "_model_module_version": "1.5.0",
            "_model_name": "DescriptionStyleModel",
            "_view_count": null,
            "_view_module": "@jupyter-widgets/base",
            "_view_module_version": "1.2.0",
            "_view_name": "StyleView",
            "description_width": ""
          }
        }
      }
    }
  },
  "nbformat": 4,
  "nbformat_minor": 0
}