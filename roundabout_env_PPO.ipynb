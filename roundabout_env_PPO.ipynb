{
  "cells": [
    {
      "cell_type": "code",
      "execution_count": 1,
      "metadata": {
        "id": "uxaQ_MSk9TfL"
      },
      "outputs": [],
      "source": [
        "import keras\n",
        "import tensorflow as tf\n",
        "import os\n",
        "import numpy as np\n",
        "import time\n",
        "import pprint\n",
        "import matplotlib.pyplot as plt"
      ]
    },
    {
      "cell_type": "code",
      "execution_count": 2,
      "metadata": {
        "colab": {
          "base_uri": "https://localhost:8080/"
        },
        "id": "wp_z7ii_901S",
        "outputId": "40d4b63a-88f5-459c-d722-2b90f1c02cce"
      },
      "outputs": [
        {
          "name": "stdout",
          "output_type": "stream",
          "text": [
            "Requirement already satisfied: gymnasium in d:\\ml_modelling\\ml_env\\lib\\site-packages (1.0.0)\n",
            "Requirement already satisfied: numpy>=1.21.0 in d:\\ml_modelling\\ml_env\\lib\\site-packages (from gymnasium) (2.0.2)\n",
            "Requirement already satisfied: cloudpickle>=1.2.0 in d:\\ml_modelling\\ml_env\\lib\\site-packages (from gymnasium) (3.1.1)\n",
            "Requirement already satisfied: typing-extensions>=4.3.0 in d:\\ml_modelling\\ml_env\\lib\\site-packages (from gymnasium) (4.12.2)\n",
            "Requirement already satisfied: farama-notifications>=0.0.1 in d:\\ml_modelling\\ml_env\\lib\\site-packages (from gymnasium) (0.0.4)\n",
            "Requirement already satisfied: importlib-metadata>=4.8.0 in d:\\ml_modelling\\ml_env\\lib\\site-packages (from gymnasium) (8.5.0)\n",
            "Requirement already satisfied: zipp>=3.20 in d:\\ml_modelling\\ml_env\\lib\\site-packages (from importlib-metadata>=4.8.0->gymnasium) (3.21.0)\n"
          ]
        }
      ],
      "source": [
        "!pip install gymnasium\n",
        "!pip install -q git+https://github.com/eleurent/highway-env\n",
        "!pip install -q git+https://github.com/DLR-RM/stable-baselines3"
      ]
    },
    {
      "cell_type": "code",
      "execution_count": 3,
      "metadata": {
        "id": "IOmK65jp94yd"
      },
      "outputs": [],
      "source": [
        "import warnings\n",
        "warnings.filterwarnings(\"ignore\", category=DeprecationWarning)\n",
        "\n",
        "import gymnasium as gym\n",
        "import highway_env\n",
        "from matplotlib import pyplot as plt\n",
        "%matplotlib inline\n",
        "from stable_baselines3 import DQN, PPO\n",
        "\n",
        "from stable_baselines3.common.callbacks import BaseCallback\n",
        "from stable_baselines3.common.logger import Figure, Image"
      ]
    },
    {
      "cell_type": "code",
      "execution_count": 4,
      "metadata": {
        "colab": {
          "base_uri": "https://localhost:8080/"
        },
        "id": "zsr5DmziD4kg",
        "outputId": "edc4d6eb-2f39-45dd-a336-117dda7a672f"
      },
      "outputs": [
        {
          "name": "stdout",
          "output_type": "stream",
          "text": [
            "Requirement already satisfied: tensorboardx in d:\\ml_modelling\\ml_env\\lib\\site-packages (2.6.2.2)\n",
            "Requirement already satisfied: gym in d:\\ml_modelling\\ml_env\\lib\\site-packages (0.26.2)\n",
            "Requirement already satisfied: pyvirtualdisplay in d:\\ml_modelling\\ml_env\\lib\\site-packages (3.0)\n",
            "Requirement already satisfied: numpy in d:\\ml_modelling\\ml_env\\lib\\site-packages (from tensorboardx) (2.0.2)\n",
            "Requirement already satisfied: packaging in d:\\ml_modelling\\ml_env\\lib\\site-packages (from tensorboardx) (24.2)\n",
            "Requirement already satisfied: protobuf>=3.20 in d:\\ml_modelling\\ml_env\\lib\\site-packages (from tensorboardx) (5.29.2)\n",
            "Requirement already satisfied: cloudpickle>=1.2.0 in d:\\ml_modelling\\ml_env\\lib\\site-packages (from gym) (3.1.1)\n",
            "Requirement already satisfied: importlib_metadata>=4.8.0 in d:\\ml_modelling\\ml_env\\lib\\site-packages (from gym) (8.5.0)\n",
            "Requirement already satisfied: gym_notices>=0.0.4 in d:\\ml_modelling\\ml_env\\lib\\site-packages (from gym) (0.0.8)\n",
            "Requirement already satisfied: zipp>=3.20 in d:\\ml_modelling\\ml_env\\lib\\site-packages (from importlib_metadata>=4.8.0->gym) (3.21.0)\n"
          ]
        },
        {
          "name": "stderr",
          "output_type": "stream",
          "text": [
            "'apt-get' is not recognized as an internal or external command,\n",
            "operable program or batch file.\n",
            "The system cannot find the path specified.\n"
          ]
        }
      ],
      "source": [
        "# Visualization utils\n",
        "%load_ext tensorboard\n",
        "import sys\n",
        "from tqdm.notebook import trange\n",
        "!pip install tensorboardx gym pyvirtualdisplay\n",
        "!apt-get install -y xvfb ffmpeg\n",
        "!git clone https://github.com/Farama-Foundation/HighwayEnv.git 2> /dev/null\n",
        "sys.path.insert(0, '/content/HighwayEnv/scripts')\n",
        "#from utils import record_videos, show_videos"
      ]
    },
    {
      "cell_type": "markdown",
      "metadata": {
        "id": "iyZQoQeEYb5X"
      },
      "source": [
        "### __Configuration of the Roundabout Environment__\n",
        "###### Separated it out to change reward function for speed, lane keeping, and collision prevention"
      ]
    },
    {
      "cell_type": "code",
      "execution_count": 5,
      "metadata": {
        "id": "Tso_yz9bYVuX"
      },
      "outputs": [],
      "source": [
        "env_config= {\n",
        "            \"observation\": {\n",
        "                \"type\": \"Kinematics\",\n",
        "                \"absolute\": True,\n",
        "                \"features_range\": {\n",
        "                    \"x\": [-100, 100],\n",
        "                    \"y\": [-100, 100],\n",
        "                    \"vx\": [-15, 15],\n",
        "                    \"vy\": [-15, 15],\n",
        "                },\n",
        "            },\n",
        "            \"action\": {\"type\": \"DiscreteMetaAction\", \"target_speeds\": [0, 8, 16]},\n",
        "            \"incoming_vehicle_destination\": None,\n",
        "            \"collision_reward\": -0.2,\n",
        "            \"high_speed_reward\": 0.8,\n",
        "            \"right_lane_reward\": 0.1,\n",
        "            \"lane_change_reward\": -0.1,\n",
        "            \"screen_width\": 600,\n",
        "            \"screen_height\": 600,\n",
        "            \"centering_position\": [0.5, 0.6],\n",
        "            \"duration\": 11,\n",
        "            \"normalize_reward\": True,\n",
        "        }"
      ]
    },
    {
      "cell_type": "code",
      "execution_count": 6,
      "metadata": {
        "colab": {
          "base_uri": "https://localhost:8080/"
        },
        "id": "o4r_AaCwXNpk",
        "outputId": "c9a0a365-bb60-4fc1-fdff-3a4a84fe2e33"
      },
      "outputs": [
        {
          "name": "stdout",
          "output_type": "stream",
          "text": [
            "{'action': {'target_speeds': [0, 8, 16], 'type': 'DiscreteMetaAction'},\n",
            " 'centering_position': [0.5, 0.6],\n",
            " 'collision_reward': -0.2,\n",
            " 'duration': 11,\n",
            " 'high_speed_reward': 0.8,\n",
            " 'incoming_vehicle_destination': None,\n",
            " 'lane_change_reward': -0.1,\n",
            " 'manual_control': False,\n",
            " 'normalize_reward': True,\n",
            " 'observation': {'absolute': True,\n",
            "                 'features_range': {'vx': [-15, 15],\n",
            "                                    'vy': [-15, 15],\n",
            "                                    'x': [-100, 100],\n",
            "                                    'y': [-100, 100]},\n",
            "                 'type': 'Kinematics'},\n",
            " 'offscreen_rendering': False,\n",
            " 'other_vehicles_type': 'highway_env.vehicle.behavior.IDMVehicle',\n",
            " 'policy_frequency': 1,\n",
            " 'real_time_rendering': False,\n",
            " 'render_agent': True,\n",
            " 'right_lane_reward': 0.1,\n",
            " 'scaling': 5.5,\n",
            " 'screen_height': 600,\n",
            " 'screen_width': 600,\n",
            " 'show_trajectories': False,\n",
            " 'simulation_frequency': 15}\n"
          ]
        }
      ],
      "source": [
        "def env_create(seed=42):\n",
        "    env = gym.make(\"roundabout-v0\", config=env_config, render_mode='rgb_array')\n",
        "    # pprint.pprint(env.unwrapped.config)\n",
        "    env.reset(seed=seed)\n",
        "    return env\n",
        "\n",
        "env = env_create()\n",
        "pprint.pprint(env.unwrapped.config) # Print all the env parameters"
      ]
    },
    {
      "cell_type": "code",
      "execution_count": 7,
      "metadata": {
        "colab": {
          "base_uri": "https://localhost:8080/",
          "height": 406
        },
        "id": "CC3h5sF0UPnK",
        "outputId": "fd89cc0e-57d7-4a36-89e5-25ee1bce1b17"
      },
      "outputs": [
        {
          "data": {
            "image/png": "[encoded data removed]",
            "text/plain": [
              "<Figure size 640x480 with 1 Axes>"
            ]
          },
          "metadata": {},
          "output_type": "display_data"
        }
      ],
      "source": [
        "for _ in range(3):\n",
        "    action = env.unwrapped.action_type.actions_indexes[\"IDLE\"]\n",
        "    obs, reward, done, truncated, info = env.step(action)\n",
        "    env.render()\n",
        "\n",
        "plt.imshow(env.render()) # draw the current scenario\n",
        "plt.axis('off')\n",
        "plt.show()"
      ]
    },
    {
      "cell_type": "markdown",
      "metadata": {
        "id": "FLHsh2D-WJ-2"
      },
      "source": [
        "Key aspects of ``ep_len_mean`` and ``ep_rew_mean`` can be seen on tensorboard. But, to also notice loss, we need a separate callback"
      ]
    },
    {
      "cell_type": "code",
      "execution_count": 8,
      "metadata": {
        "id": "bESi9SUYatdm"
      },
      "outputs": [],
      "source": [
        "# Custom callback to log loss\n",
        "class LossCallback(BaseCallback):\n",
        "    def __init__(self, verbose=0):\n",
        "        super(LossCallback, self).__init__(verbose)\n",
        "        self.losses = []\n",
        "\n",
        "    def _on_step(self):\n",
        "        # Log loss after each update\n",
        "        if \"train/loss\" in self.logger.name_to_value:\n",
        "            loss = self.logger.name_to_value[\"train/loss\"]\n",
        "            self.losses.append(loss)\n",
        "        return True\n",
        "\n",
        "loss_callback = LossCallback()"
      ]
    },
    {
      "cell_type": "code",
      "execution_count": 9,
      "metadata": {
        "collapsed": true,
        "id": "02PPwGDvbt8J"
      },
      "outputs": [],
      "source": [
        "#%tensorboard --logdir \"highway_ppo\""
      ]
    },
    {
      "cell_type": "code",
      "execution_count": 10,
      "metadata": {
        "colab": {
          "base_uri": "https://localhost:8080/"
        },
        "id": "pniUlckGaZl8",
        "outputId": "bb24cb94-1b88-4406-c4c4-cc75911c784a"
      },
      "outputs": [
        {
          "name": "stdout",
          "output_type": "stream",
          "text": [
            "Using cpu device\n",
            "Wrapping the env with a `Monitor` wrapper\n",
            "Wrapping the env in a DummyVecEnv.\n"
          ]
        }
      ],
      "source": [
        "model = PPO('MlpPolicy', env,\n",
        "                policy_kwargs=dict(net_arch=[256, 256]),\n",
        "                learning_rate=25e-5,\n",
        "                n_steps=2048,\n",
        "                n_epochs=10,\n",
        "                batch_size=64,\n",
        "                gamma=0.9,\n",
        "                gae_lambda=0.9,\n",
        "                clip_range=0.2,\n",
        "                ent_coef=0.01,\n",
        "                vf_coef=0.5,\n",
        "                max_grad_norm=0.5,\n",
        "                verbose=1,\n",
        "                tensorboard_log='highway_ppo/')"
      ]
    },
    {
      "cell_type": "code",
      "execution_count": 11,
      "metadata": {
        "colab": {
          "base_uri": "https://localhost:8080/"
        },
        "collapsed": true,
        "id": "PKLCSNfJadzb",
        "outputId": "a2f01e41-d778-40bd-d80e-7a14fa560020"
      },
      "outputs": [
        {
          "name": "stdout",
          "output_type": "stream",
          "text": [
            "Logging to highway_ppo/PPO_1\n"
          ]
        },
        {
          "name": "stdout",
          "output_type": "stream",
          "text": [
            "---------------------------------\n",
            "| rollout/           |          |\n",
            "|    ep_len_mean     | 8.82     |\n",
            "|    ep_rew_mean     | 4.64     |\n",
            "| time/              |          |\n",
            "|    fps             | 17       |\n",
            "|    iterations      | 1        |\n",
            "|    time_elapsed    | 120      |\n",
            "|    total_timesteps | 2048     |\n",
            "---------------------------------\n",
            "-----------------------------------------\n",
            "| rollout/                |             |\n",
            "|    ep_len_mean          | 9.02        |\n",
            "|    ep_rew_mean          | 5.8         |\n",
            "| time/                   |             |\n",
            "|    fps                  | 16          |\n",
            "|    iterations           | 2           |\n",
            "|    time_elapsed         | 241         |\n",
            "|    total_timesteps      | 4096        |\n",
            "| train/                  |             |\n",
            "|    approx_kl            | 0.032837614 |\n",
            "|    clip_fraction        | 0.344       |\n",
            "|    clip_range           | 0.2         |\n",
            "|    entropy_loss         | -1.58       |\n",
            "|    explained_variance   | -0.0522     |\n",
            "|    learning_rate        | 0.00025     |\n",
            "|    loss                 | 0.256       |\n",
            "|    n_updates            | 10          |\n",
            "|    policy_gradient_loss | -0.0498     |\n",
            "|    value_loss           | 0.856       |\n",
            "-----------------------------------------\n",
            "----------------------------------------\n",
            "| rollout/                |            |\n",
            "|    ep_len_mean          | 7.74       |\n",
            "|    ep_rew_mean          | 5.72       |\n",
            "| time/                   |            |\n",
            "|    fps                  | 16         |\n",
            "|    iterations           | 3          |\n",
            "|    time_elapsed         | 363        |\n",
            "|    total_timesteps      | 6144       |\n",
            "| train/                  |            |\n",
            "|    approx_kl            | 0.01972668 |\n",
            "|    clip_fraction        | 0.308      |\n",
            "|    clip_range           | 0.2        |\n",
            "|    entropy_loss         | -1.53      |\n",
            "|    explained_variance   | 0.19       |\n",
            "|    learning_rate        | 0.00025    |\n",
            "|    loss                 | 0.365      |\n",
            "|    n_updates            | 20         |\n",
            "|    policy_gradient_loss | -0.0443    |\n",
            "|    value_loss           | 1.3        |\n",
            "----------------------------------------\n",
            "------------------------------------------\n",
            "| rollout/                |              |\n",
            "|    ep_len_mean          | 8.49         |\n",
            "|    ep_rew_mean          | 6.8          |\n",
            "| time/                   |              |\n",
            "|    fps                  | 16           |\n",
            "|    iterations           | 4            |\n",
            "|    time_elapsed         | 484          |\n",
            "|    total_timesteps      | 8192         |\n",
            "| train/                  |              |\n",
            "|    approx_kl            | 0.0135340355 |\n",
            "|    clip_fraction        | 0.182        |\n",
            "|    clip_range           | 0.2          |\n",
            "|    entropy_loss         | -1.47        |\n",
            "|    explained_variance   | 0.105        |\n",
            "|    learning_rate        | 0.00025      |\n",
            "|    loss                 | 0.999        |\n",
            "|    n_updates            | 30           |\n",
            "|    policy_gradient_loss | -0.0185      |\n",
            "|    value_loss           | 1.86         |\n",
            "------------------------------------------\n",
            "-----------------------------------------\n",
            "| rollout/                |             |\n",
            "|    ep_len_mean          | 7.45        |\n",
            "|    ep_rew_mean          | 5.98        |\n",
            "| time/                   |             |\n",
            "|    fps                  | 16          |\n",
            "|    iterations           | 5           |\n",
            "|    time_elapsed         | 607         |\n",
            "|    total_timesteps      | 10240       |\n",
            "| train/                  |             |\n",
            "|    approx_kl            | 0.015242659 |\n",
            "|    clip_fraction        | 0.205       |\n",
            "|    clip_range           | 0.2         |\n",
            "|    entropy_loss         | -1.42       |\n",
            "|    explained_variance   | 0.174       |\n",
            "|    learning_rate        | 0.00025     |\n",
            "|    loss                 | 1.32        |\n",
            "|    n_updates            | 40          |\n",
            "|    policy_gradient_loss | -0.0194     |\n",
            "|    value_loss           | 1.79        |\n",
            "-----------------------------------------\n",
            "-----------------------------------------\n",
            "| rollout/                |             |\n",
            "|    ep_len_mean          | 8.27        |\n",
            "|    ep_rew_mean          | 7.09        |\n",
            "| time/                   |             |\n",
            "|    fps                  | 16          |\n",
            "|    iterations           | 6           |\n",
            "|    time_elapsed         | 730         |\n",
            "|    total_timesteps      | 12288       |\n",
            "| train/                  |             |\n",
            "|    approx_kl            | 0.014501708 |\n",
            "|    clip_fraction        | 0.143       |\n",
            "|    clip_range           | 0.2         |\n",
            "|    entropy_loss         | -1.4        |\n",
            "|    explained_variance   | 0.147       |\n",
            "|    learning_rate        | 0.00025     |\n",
            "|    loss                 | 0.738       |\n",
            "|    n_updates            | 50          |\n",
            "|    policy_gradient_loss | -0.0119     |\n",
            "|    value_loss           | 2.32        |\n",
            "-----------------------------------------\n",
            "-----------------------------------------\n",
            "| rollout/                |             |\n",
            "|    ep_len_mean          | 7.62        |\n",
            "|    ep_rew_mean          | 6.73        |\n",
            "| time/                   |             |\n",
            "|    fps                  | 16          |\n",
            "|    iterations           | 7           |\n",
            "|    time_elapsed         | 852         |\n",
            "|    total_timesteps      | 14336       |\n",
            "| train/                  |             |\n",
            "|    approx_kl            | 0.011367794 |\n",
            "|    clip_fraction        | 0.146       |\n",
            "|    clip_range           | 0.2         |\n",
            "|    entropy_loss         | -1.34       |\n",
            "|    explained_variance   | 0.183       |\n",
            "|    learning_rate        | 0.00025     |\n",
            "|    loss                 | 1.38        |\n",
            "|    n_updates            | 60          |\n",
            "|    policy_gradient_loss | -0.0145     |\n",
            "|    value_loss           | 2.52        |\n",
            "-----------------------------------------\n",
            "-----------------------------------------\n",
            "| rollout/                |             |\n",
            "|    ep_len_mean          | 8.22        |\n",
            "|    ep_rew_mean          | 7.12        |\n",
            "| time/                   |             |\n",
            "|    fps                  | 16          |\n",
            "|    iterations           | 8           |\n",
            "|    time_elapsed         | 976         |\n",
            "|    total_timesteps      | 16384       |\n",
            "| train/                  |             |\n",
            "|    approx_kl            | 0.008640862 |\n",
            "|    clip_fraction        | 0.117       |\n",
            "|    clip_range           | 0.2         |\n",
            "|    entropy_loss         | -1.28       |\n",
            "|    explained_variance   | 0.195       |\n",
            "|    learning_rate        | 0.00025     |\n",
            "|    loss                 | 1.59        |\n",
            "|    n_updates            | 70          |\n",
            "|    policy_gradient_loss | -0.00906    |\n",
            "|    value_loss           | 2.34        |\n",
            "-----------------------------------------\n",
            "-----------------------------------------\n",
            "| rollout/                |             |\n",
            "|    ep_len_mean          | 8.14        |\n",
            "|    ep_rew_mean          | 7.4         |\n",
            "| time/                   |             |\n",
            "|    fps                  | 16          |\n",
            "|    iterations           | 9           |\n",
            "|    time_elapsed         | 1098        |\n",
            "|    total_timesteps      | 18432       |\n",
            "| train/                  |             |\n",
            "|    approx_kl            | 0.010362119 |\n",
            "|    clip_fraction        | 0.119       |\n",
            "|    clip_range           | 0.2         |\n",
            "|    entropy_loss         | -1.25       |\n",
            "|    explained_variance   | 0.208       |\n",
            "|    learning_rate        | 0.00025     |\n",
            "|    loss                 | 1.48        |\n",
            "|    n_updates            | 80          |\n",
            "|    policy_gradient_loss | -0.00986    |\n",
            "|    value_loss           | 2.65        |\n",
            "-----------------------------------------\n",
            "------------------------------------------\n",
            "| rollout/                |              |\n",
            "|    ep_len_mean          | 8.18         |\n",
            "|    ep_rew_mean          | 7.27         |\n",
            "| time/                   |              |\n",
            "|    fps                  | 16           |\n",
            "|    iterations           | 10           |\n",
            "|    time_elapsed         | 1221         |\n",
            "|    total_timesteps      | 20480        |\n",
            "| train/                  |              |\n",
            "|    approx_kl            | 0.0071898857 |\n",
            "|    clip_fraction        | 0.0923       |\n",
            "|    clip_range           | 0.2          |\n",
            "|    entropy_loss         | -1.24        |\n",
            "|    explained_variance   | 0.214        |\n",
            "|    learning_rate        | 0.00025      |\n",
            "|    loss                 | 1.64         |\n",
            "|    n_updates            | 90           |\n",
            "|    policy_gradient_loss | -0.00631     |\n",
            "|    value_loss           | 2.92         |\n",
            "------------------------------------------\n",
            "Time to run: 20 min 23.76 s\n"
          ]
        }
      ],
      "source": [
        "start = time.perf_counter()\n",
        "model.learn(total_timesteps=20000, callback=loss_callback)\n",
        "end = time.perf_counter()\n",
        "\n",
        "s2mps = lambda s: f\"{s // 60:.0f} min {s % 60:.2f} s\"\n",
        "print(f\"Time to run: {s2mps(end - start)}\")"
      ]
    },
    {
      "cell_type": "code",
      "execution_count": 12,
      "metadata": {
        "colab": {
          "base_uri": "https://localhost:8080/",
          "height": 564
        },
        "id": "YxgvE0Ejatdo",
        "outputId": "43114055-3595-4905-9db1-dffc5b2bafa6"
      },
      "outputs": [
        {
          "data": {
            "image/png": "[encoded data removed]",
            "text/plain": [
              "<Figure size 1000x600 with 1 Axes>"
            ]
          },
          "metadata": {},
          "output_type": "display_data"
        }
      ],
      "source": [
        "# Plotting the moving average of loss\n",
        "plt.figure(figsize=(10, 6))\n",
        "plt.plot(loss_callback.losses, label='Training Loss (Moving Average)', color='blue', linewidth=1)\n",
        "plt.xlabel('Training Steps')\n",
        "plt.ylabel('Loss')\n",
        "plt.title('roundabout-PPO Training Loss')\n",
        "plt.legend()\n",
        "plt.grid()\n",
        "plt.show()"
      ]
    },
    {
      "cell_type": "code",
      "execution_count": 13,
      "metadata": {
        "colab": {
          "base_uri": "https://localhost:8080/"
        },
        "id": "KcTMnVfVanYs",
        "outputId": "5cdf8c2c-15d8-4112-9bad-cde31635bdce"
      },
      "outputs": [
        {
          "name": "stdout",
          "output_type": "stream",
          "text": [
            "Avg time to fail [s] = 0.37\n",
            "Avg distance traveled [m]= 5.62\n",
            "Avg reward = 5.48\n"
          ]
        }
      ],
      "source": [
        "n_tests = 25\n",
        "total_failtime = []\n",
        "total_distance = []\n",
        "total_reward = []\n",
        "simulation_frequency = 15\n",
        "\n",
        "for ix in range(n_tests):\n",
        "    timetofail = 0\n",
        "    distance = 0\n",
        "    sumreward = 0\n",
        "    done = truncated = False\n",
        "\n",
        "    obs, info = env.reset()\n",
        "    # Run the episode until termination (either done or truncated)\n",
        "    while not (done or truncated):\n",
        "\n",
        "        # Use the trained model to predict the next action deterministically and executing the action in env\n",
        "        action, _states = model.predict(obs, deterministic=True)\n",
        "        obs, reward, done, truncated, info = env.step(action)\n",
        "\n",
        "        timetofail += 1\n",
        "        sumreward += reward\n",
        "        distance += info['speed'] / simulation_frequency\n",
        "\n",
        "    # Append the results of this episode to the respective lists\n",
        "    total_failtime.append(timetofail)\n",
        "    total_distance.append(distance)\n",
        "    total_reward.append(sumreward)\n",
        "\n",
        "# Calculate and print the average results across all test episodes\n",
        "print(f'Avg time to fail [s] = {np.sum(total_failtime) / n_tests / simulation_frequency:.2f}')\n",
        "print(f'Avg distance traveled [m]= {np.sum(total_distance) / n_tests:.2f}')\n",
        "print(f'Avg reward = {np.sum(total_reward) / n_tests:.2f}')"
      ]
    },
    {
      "cell_type": "markdown",
      "metadata": {
        "id": "ZHOWYIeEABGB"
      },
      "source": [
        "__Reward Function:__\n",
        "\n",
        "We do not need to experiment with reward function for collision, high_speed, etc. as we collected appropriate values for them in DQN experiment.\n",
        "\n",
        "We will experiment with ``PPO`` parameters, and as loss appear to not decrease smoothly, we will start with ``gae_lambda``\n",
        "```\n",
        "model = PPO(\"MlpPolicy\", env,\n",
        "             policy_kwargs=dict(net_arch=[256, 256]),\n",
        "             learning_rate=5e-4,\n",
        "             n_steps=2048,\n",
        "             batch_size=32,\n",
        "             n_epochs=10,\n",
        "             gamma=0.95,\n",
        "             gae_lambda=0.98,\n",
        "             clip_range=0.2,\n",
        "             ent_coef=0.01,\n",
        "             verbose=1,\n",
        "             tensorboard_log='highway_ppo/')\n",
        "```\n",
        "\n",
        "| Ex. No. |learning_rate |n_steps |gae_lambda|clip_range | ent_coef |Avg Time |Avg Distance | Avg Reward|\n",
        "|----|----|----|----|---|---|---|---|---|\n",
        "|1| 5e-4 | 2048 | 0.98 | 0.2|0.01|0.73|2.58|8.93|\n",
        "|2|5e-4|2048|0.95|0.2|0.01|0.73|0.47|8.54|\n",
        "|3|5e-4|2048|0.90|0.2|0.01|0.73|2.25|8.93|\n",
        "|4|__25e-5__ | __2048__ | __0.98__|__0.2__| __0.01__|**0.73**|__3.49__|__9.21__|\n",
        "|5|3e-4 | 2048 | 0.98|0.2| 0.01|0.73|2.00|8.84|\n",
        "|6|25e-5 | 1024 | 0.98|0.2| 0.01|0.73|0.11|8.43|\n",
        "|7|25e-5 | 2048 | 0.98|0.1| 0.01|0.73|3.05|9.12|\n",
        "|8|25e-5 | 2048 | 0.98|0.2| 0.001|0.73|1.84|8.84|\n",
        "\n",
        "\n",
        "\n",
        "           "
      ]
    },
    {
      "cell_type": "markdown",
      "metadata": {
        "id": "Jbg3JmPSqrT1"
      },
      "source": [
        "I was not recording video, therefore kept trying. However, __ego vehicle remain stagnant for the first few seconds to avoid collision__\n",
        "\n",
        "Therefore, __changed__ ``reward function`` in a way __ego vehicle start movement as soon as episode starts__ Our chosen values are:\n",
        "```\n",
        "\"collision_reward\": -0.2,\n",
        "\"high_speed_reward\": 0.8,\n",
        "\"right_lane_reward\": 0.1,\n",
        "\"lane_change_reward\": -0.1,\n",
        "```\n",
        "\n"
      ]
    },
    {
      "cell_type": "markdown",
      "metadata": {
        "id": "pAfOhddXr7CA"
      },
      "source": [
        "| Ex. No. |learning_rate |n_steps |Discount | gae_lambda|clip_range | ent_coef |Avg Time |Avg Distance | Avg Reward| REMARK |\n",
        "|----|------|------|-----|------|-----|------|------|------|------|---------------------------------|\n",
        "| 1 | 25e-5 | 2048 | 0.9 | 0.95 | 0.2 | 0.001| 0.58 | 7.87 | 7.44 | Rear-collided at Roundabout Exit|\n",
        "| 2 | 25e-5 | 2048 | 0.9 | 0.95 | 0.2 | 0.01 | 0.52 | 8.04 | 7.68 |__Cleared RoundAbout__ Loss Monotonic Increase|\n",
        "| 3 | 25e-5 | 2048 | 0.9 | 0.95 | 0.1 | 0.01 | 0.59 | 7.54 | 7.49 | Rear-collided at Roundabout Exit|\n",
        "| 4 | 25e-5 | 2048 | 0.9 | 0.9  | 0.2 | 0.01 | 0.45 | 6.82 | 6.42 |__Cleared RoundAbout__|"
      ]
    },
    {
      "cell_type": "code",
      "execution_count": 15,
      "metadata": {
        "colab": {
          "base_uri": "https://localhost:8080/",
          "height": 892,
          "referenced_widgets": [
            "86af3e1be5a24ee7a19abe60b8b36b36",
            "db574b18aa0f4030b2d254776e339ca4",
            "88d1be65355e4645a4a7c3bddf939510",
            "2166c23ad7364e05aac9787ed710f949",
            "3f38f918e77e4e94a1d736c817e27f92",
            "ecaa8005b13f4dd59165466ca4898337",
            "930657d1d5454337b54f748671c3f084",
            "9a567c961e7343638af7d89c68ef69be",
            "6904d1c12752473e81ce63c1c7e3195c",
            "c2e8f86bc36b4a0aa00a93171c0eade7",
            "4760428a2efb42788a242abd374a1f96"
          ]
        },
        "id": "ovojrbv_bsIh",
        "outputId": "4bfb50a3-f838-4ebd-8e90-7f6af6b3578c"
      },
      "outputs": [],
      "source": [
        "# if True:\n",
        "#     env = env_create()\n",
        "#     env = record_videos(env)\n",
        "\n",
        "#     # Loop through a specified number of test episodes to evaluate the model\n",
        "#     for episode in trange(2, desc='Test episodes'):\n",
        "#         (obs, info), done = env.reset(), False\n",
        "#         while not done:\n",
        "#             # Use the trained model to predict the next action deterministically\n",
        "#             action, _ = model.predict(obs, deterministic=True)\n",
        "\n",
        "#             # Take the predicted action in the environment and observe the results\n",
        "#             obs, reward, done, truncated, info = env.step(int(action))\n",
        "\n",
        "#     env.close()\n",
        "#     show_videos()"
      ]
    }
  ],
  "metadata": {
    "colab": {
      "provenance": []
    },
    "kernelspec": {
      "display_name": "ml_env",
      "language": "python",
      "name": "python3"
    },
    "language_info": {
      "codemirror_mode": {
        "name": "ipython",
        "version": 3
      },
      "file_extension": ".py",
      "mimetype": "text/x-python",
      "name": "python",
      "nbconvert_exporter": "python",
      "pygments_lexer": "ipython3",
      "version": "3.9.9"
    },
    "widgets": {
      "application/vnd.jupyter.widget-state+json": {
        "2166c23ad7364e05aac9787ed710f949": {
          "model_module": "@jupyter-widgets/controls",
          "model_module_version": "1.5.0",
          "model_name": "HTMLModel",
          "state": {
            "_dom_classes": [],
            "_model_module": "@jupyter-widgets/controls",
            "_model_module_version": "1.5.0",
            "_model_name": "HTMLModel",
            "_view_count": null,
            "_view_module": "@jupyter-widgets/controls",
            "_view_module_version": "1.5.0",
            "_view_name": "HTMLView",
            "description": "",
            "description_tooltip": null,
            "layout": "IPY_MODEL_c2e8f86bc36b4a0aa00a93171c0eade7",
            "placeholder": "​",
            "style": "IPY_MODEL_4760428a2efb42788a242abd374a1f96",
            "value": " 2/2 [00:28&lt;00:00, 13.75s/it]"
          }
        },
        "3f38f918e77e4e94a1d736c817e27f92": {
          "model_module": "@jupyter-widgets/base",
          "model_module_version": "1.2.0",
          "model_name": "LayoutModel",
          "state": {
            "_model_module": "@jupyter-widgets/base",
            "_model_module_version": "1.2.0",
            "_model_name": "LayoutModel",
            "_view_count": null,
            "_view_module": "@jupyter-widgets/base",
            "_view_module_version": "1.2.0",
            "_view_name": "LayoutView",
            "align_content": null,
            "align_items": null,
            "align_self": null,
            "border": null,
            "bottom": null,
            "display": null,
            "flex": null,
            "flex_flow": null,
            "grid_area": null,
            "grid_auto_columns": null,
            "grid_auto_flow": null,
            "grid_auto_rows": null,
            "grid_column": null,
            "grid_gap": null,
            "grid_row": null,
            "grid_template_areas": null,
            "grid_template_columns": null,
            "grid_template_rows": null,
            "height": null,
            "justify_content": null,
            "justify_items": null,
            "left": null,
            "margin": null,
            "max_height": null,
            "max_width": null,
            "min_height": null,
            "min_width": null,
            "object_fit": null,
            "object_position": null,
            "order": null,
            "overflow": null,
            "overflow_x": null,
            "overflow_y": null,
            "padding": null,
            "right": null,
            "top": null,
            "visibility": null,
            "width": null
          }
        },
        "4760428a2efb42788a242abd374a1f96": {
          "model_module": "@jupyter-widgets/controls",
          "model_module_version": "1.5.0",
          "model_name": "DescriptionStyleModel",
          "state": {
            "_model_module": "@jupyter-widgets/controls",
            "_model_module_version": "1.5.0",
            "_model_name": "DescriptionStyleModel",
            "_view_count": null,
            "_view_module": "@jupyter-widgets/base",
            "_view_module_version": "1.2.0",
            "_view_name": "StyleView",
            "description_width": ""
          }
        },
        "6904d1c12752473e81ce63c1c7e3195c": {
          "model_module": "@jupyter-widgets/controls",
          "model_module_version": "1.5.0",
          "model_name": "ProgressStyleModel",
          "state": {
            "_model_module": "@jupyter-widgets/controls",
            "_model_module_version": "1.5.0",
            "_model_name": "ProgressStyleModel",
            "_view_count": null,
            "_view_module": "@jupyter-widgets/base",
            "_view_module_version": "1.2.0",
            "_view_name": "StyleView",
            "bar_color": null,
            "description_width": ""
          }
        },
        "86af3e1be5a24ee7a19abe60b8b36b36": {
          "model_module": "@jupyter-widgets/controls",
          "model_module_version": "1.5.0",
          "model_name": "HBoxModel",
          "state": {
            "_dom_classes": [],
            "_model_module": "@jupyter-widgets/controls",
            "_model_module_version": "1.5.0",
            "_model_name": "HBoxModel",
            "_view_count": null,
            "_view_module": "@jupyter-widgets/controls",
            "_view_module_version": "1.5.0",
            "_view_name": "HBoxView",
            "box_style": "",
            "children": [
              "IPY_MODEL_db574b18aa0f4030b2d254776e339ca4",
              "IPY_MODEL_88d1be65355e4645a4a7c3bddf939510",
              "IPY_MODEL_2166c23ad7364e05aac9787ed710f949"
            ],
            "layout": "IPY_MODEL_3f38f918e77e4e94a1d736c817e27f92"
          }
        },
        "88d1be65355e4645a4a7c3bddf939510": {
          "model_module": "@jupyter-widgets/controls",
          "model_module_version": "1.5.0",
          "model_name": "FloatProgressModel",
          "state": {
            "_dom_classes": [],
            "_model_module": "@jupyter-widgets/controls",
            "_model_module_version": "1.5.0",
            "_model_name": "FloatProgressModel",
            "_view_count": null,
            "_view_module": "@jupyter-widgets/controls",
            "_view_module_version": "1.5.0",
            "_view_name": "ProgressView",
            "bar_style": "success",
            "description": "",
            "description_tooltip": null,
            "layout": "IPY_MODEL_9a567c961e7343638af7d89c68ef69be",
            "max": 2,
            "min": 0,
            "orientation": "horizontal",
            "style": "IPY_MODEL_6904d1c12752473e81ce63c1c7e3195c",
            "value": 2
          }
        },
        "930657d1d5454337b54f748671c3f084": {
          "model_module": "@jupyter-widgets/controls",
          "model_module_version": "1.5.0",
          "model_name": "DescriptionStyleModel",
          "state": {
            "_model_module": "@jupyter-widgets/controls",
            "_model_module_version": "1.5.0",
            "_model_name": "DescriptionStyleModel",
            "_view_count": null,
            "_view_module": "@jupyter-widgets/base",
            "_view_module_version": "1.2.0",
            "_view_name": "StyleView",
            "description_width": ""
          }
        },
        "9a567c961e7343638af7d89c68ef69be": {
          "model_module": "@jupyter-widgets/base",
          "model_module_version": "1.2.0",
          "model_name": "LayoutModel",
          "state": {
            "_model_module": "@jupyter-widgets/base",
            "_model_module_version": "1.2.0",
            "_model_name": "LayoutModel",
            "_view_count": null,
            "_view_module": "@jupyter-widgets/base",
            "_view_module_version": "1.2.0",
            "_view_name": "LayoutView",
            "align_content": null,
            "align_items": null,
            "align_self": null,
            "border": null,
            "bottom": null,
            "display": null,
            "flex": null,
            "flex_flow": null,
            "grid_area": null,
            "grid_auto_columns": null,
            "grid_auto_flow": null,
            "grid_auto_rows": null,
            "grid_column": null,
            "grid_gap": null,
            "grid_row": null,
            "grid_template_areas": null,
            "grid_template_columns": null,
            "grid_template_rows": null,
            "height": null,
            "justify_content": null,
            "justify_items": null,
            "left": null,
            "margin": null,
            "max_height": null,
            "max_width": null,
            "min_height": null,
            "min_width": null,
            "object_fit": null,
            "object_position": null,
            "order": null,
            "overflow": null,
            "overflow_x": null,
            "overflow_y": null,
            "padding": null,
            "right": null,
            "top": null,
            "visibility": null,
            "width": null
          }
        },
        "c2e8f86bc36b4a0aa00a93171c0eade7": {
          "model_module": "@jupyter-widgets/base",
          "model_module_version": "1.2.0",
          "model_name": "LayoutModel",
          "state": {
            "_model_module": "@jupyter-widgets/base",
            "_model_module_version": "1.2.0",
            "_model_name": "LayoutModel",
            "_view_count": null,
            "_view_module": "@jupyter-widgets/base",
            "_view_module_version": "1.2.0",
            "_view_name": "LayoutView",
            "align_content": null,
            "align_items": null,
            "align_self": null,
            "border": null,
            "bottom": null,
            "display": null,
            "flex": null,
            "flex_flow": null,
            "grid_area": null,
            "grid_auto_columns": null,
            "grid_auto_flow": null,
            "grid_auto_rows": null,
            "grid_column": null,
            "grid_gap": null,
            "grid_row": null,
            "grid_template_areas": null,
            "grid_template_columns": null,
            "grid_template_rows": null,
            "height": null,
            "justify_content": null,
            "justify_items": null,
            "left": null,
            "margin": null,
            "max_height": null,
            "max_width": null,
            "min_height": null,
            "min_width": null,
            "object_fit": null,
            "object_position": null,
            "order": null,
            "overflow": null,
            "overflow_x": null,
            "overflow_y": null,
            "padding": null,
            "right": null,
            "top": null,
            "visibility": null,
            "width": null
          }
        },
        "db574b18aa0f4030b2d254776e339ca4": {
          "model_module": "@jupyter-widgets/controls",
          "model_module_version": "1.5.0",
          "model_name": "HTMLModel",
          "state": {
            "_dom_classes": [],
            "_model_module": "@jupyter-widgets/controls",
            "_model_module_version": "1.5.0",
            "_model_name": "HTMLModel",
            "_view_count": null,
            "_view_module": "@jupyter-widgets/controls",
            "_view_module_version": "1.5.0",
            "_view_name": "HTMLView",
            "description": "",
            "description_tooltip": null,
            "layout": "IPY_MODEL_ecaa8005b13f4dd59165466ca4898337",
            "placeholder": "​",
            "style": "IPY_MODEL_930657d1d5454337b54f748671c3f084",
            "value": "Test episodes: 100%"
          }
        },
        "ecaa8005b13f4dd59165466ca4898337": {
          "model_module": "@jupyter-widgets/base",
          "model_module_version": "1.2.0",
          "model_name": "LayoutModel",
          "state": {
            "_model_module": "@jupyter-widgets/base",
            "_model_module_version": "1.2.0",
            "_model_name": "LayoutModel",
            "_view_count": null,
            "_view_module": "@jupyter-widgets/base",
            "_view_module_version": "1.2.0",
            "_view_name": "LayoutView",
            "align_content": null,
            "align_items": null,
            "align_self": null,
            "border": null,
            "bottom": null,
            "display": null,
            "flex": null,
            "flex_flow": null,
            "grid_area": null,
            "grid_auto_columns": null,
            "grid_auto_flow": null,
            "grid_auto_rows": null,
            "grid_column": null,
            "grid_gap": null,
            "grid_row": null,
            "grid_template_areas": null,
            "grid_template_columns": null,
            "grid_template_rows": null,
            "height": null,
            "justify_content": null,
            "justify_items": null,
            "left": null,
            "margin": null,
            "max_height": null,
            "max_width": null,
            "min_height": null,
            "min_width": null,
            "object_fit": null,
            "object_position": null,
            "order": null,
            "overflow": null,
            "overflow_x": null,
            "overflow_y": null,
            "padding": null,
            "right": null,
            "top": null,
            "visibility": null,
            "width": null
          }
        }
      }
    }
  },
  "nbformat": 4,
  "nbformat_minor": 0
}
